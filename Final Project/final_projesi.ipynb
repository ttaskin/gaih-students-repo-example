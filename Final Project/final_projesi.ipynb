{
  "nbformat": 4,
  "nbformat_minor": 0,
  "metadata": {
    "colab": {
      "name": "final projesi.ipynb",
      "provenance": [],
      "collapsed_sections": []
    },
    "kernelspec": {
      "name": "python3",
      "display_name": "Python 3"
    },
    "language_info": {
      "name": "python"
    }
  },
  "cells": [
    {
      "cell_type": "code",
      "metadata": {
        "id": "vlSqSDS3GN__"
      },
      "source": [
        "print(\"Bilgi Yarışması Başlıyor Hazır mısınız?\\n\")\n",
        "Ad=input(\"Adınız: \").upper()\n",
        "Soyad=input(\"Soyadınız: \").upper()\n",
        "  \n",
        "print(\"\\nHoş geldin \", Ad, \" \", Soyad,\"\\n İşte Sorular: \\n\\n\")\n",
        "\n",
        "Sorular = {\"1 - Hangi tip kaşlar için 'keman gibi' benzetmesi yapılır?\":\"A) Koyu ve kalın\\nB) Kıvrık ve dalgalı\\nC) İnce ve düzgün\\nD) Dağınık ve seyrek\",\n",
        "             \"2 - Öğrenci karnelerinin kapağında hangisi yer alır?\":\"A) Öğretmen Marşı\\nB) Gençlik Marşı\\nC) Onuncu Yıl Marşı\\nD) Gençliğe Hitabe\",\n",
        "             \"3 - Bir bahisçinin ricasıyla, kel futbolcuların daha çok gol attıkları gibi istatistiklerle, İngiltere’nin Dünya Kupası'ndaki şansını hesaplayan kişi kimdir?\":\"A) Sean Connery\\nB) Sir Alex Ferguson\\nC) Stephen Hawking\\nD) Prens Harry\",\n",
        "             \"4 - Bir askeri araç markası olan “GMC” Türkiye’de nasıl telaffuz edilmiştir?\":\"A) Gemici\\nB) Cemse\\nC)Gemece\\nD) Cemece\",\n",
        "             \"5 - “Kafkas Tebeşir Dairesi” ve “Üç Kuruşluk Opera” oyunlarının yazarı kimdir?\":\"A) Samuel Beckett\\nB) Arthur Miller\\nC) Bertolt Breacht\\nD) James Joyce\",\n",
        "             \"6 - Müşterilerine boş bir daireyi gezdiren emlakçılar, “Kışın kolay ısınır” sözünü hangi cepheye bakan evler için söylerler?\":\"A) Kuzey\\nB) Güney\\nC) Doğu\\nD) Batı\",\n",
        "             \"7 - Giderken arkasından bakılan birinin bir süre sonra görünmez olması hangi sözle ifade edilir?\":\"A) Gözden çıkarmak\\nB) Gözden düşmek\\nC) Gözden kaybolmak\\nD) Gözüne kestirmek\",\n",
        "             \"8 - “Mefisto”, “Margarete” ve “Faust” hangi yazarın romanlarına ait karakterlerdir?\":\"A) Goethe\\nB) Dante\\nC) Moliere\\nD) Kafka\",\n",
        "             \"9 - Dayınızın çocuğunun siz nesi olursunuz?\":\"A) Halasının çocuğu\\nB) Teyzesinin çocuğu\\nC) Amcasının çocuğu\\nD) Dayısının çocuğu\",\n",
        "             \"10 - Bohemya kristalini ülkesinden almak istiyorsanız nereye gitmelisiniz?\":\"A) Fransa\\nB) Almanya\\nC) Çek Cumhuriyeti\\nD) İngiltere\"}\n",
        "\n",
        "Doğru_cevap = [\"C\",\"D\",\"C\",\"B\",\"C\",\"B\",\"C\",\"A\",\"A\",\"C\"]\n",
        "\n",
        "i = 0\n",
        "toplam = 0\n",
        "for Soru,Seçenek in Sorular.items():\n",
        "    print(Soru)\n",
        "    print(Seçenek)\n",
        "    Kullanıcı_Cevabı = input(\"Cevap: \")\n",
        "    while (len(Kullanıcı_Cevabı) != 1) or (Kullanıcı_Cevabı.upper() != \"A\" and Kullanıcı_Cevabı.upper() != \"B\" and Kullanıcı_Cevabı.upper() != \"C\" and Kullanıcı_Cevabı.upper() != \"D\"):\n",
        "        Kullanıcı_Cevabı = input(\"Geçerli şık giriniz. Cevap: \")\n",
        "    if Doğru_cevap[i] == Kullanıcı_Cevabı.upper():\n",
        "        toplam += 10\n",
        "    i += 1\n",
        "\n",
        "if toplam <= 50:\n",
        "    print(\"--------------------------------------\\n\",\n",
        "          Ad, \" \", Soyad, \" Maalesef.\\nPuanınız: \", toplam,\n",
        "          \"\\n--------------------------------------\\n\")\n",
        "else:\n",
        "    print(\"--------------------------------------\\n\",\n",
        "          Ad, \" \", Soyad, \"Başarılı.\\nPuanınız: \", toplam,\n",
        "          \"\\n--------------------------------------\\n\")"
      ],
      "execution_count": null,
      "outputs": []
    }
  ]
}