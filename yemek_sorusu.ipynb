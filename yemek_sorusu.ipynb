{
  "nbformat": 4,
  "nbformat_minor": 0,
  "metadata": {
    "colab": {
      "name": "yemek sorusu.ipynb",
      "provenance": [],
      "collapsed_sections": [],
      "authorship_tag": "ABX9TyOkNhhYH6nfuZN+GAP7FzUT",
      "include_colab_link": true
    },
    "kernelspec": {
      "name": "python3",
      "display_name": "Python 3"
    },
    "language_info": {
      "name": "python"
    }
  },
  "cells": [
    {
      "cell_type": "markdown",
      "metadata": {
        "id": "view-in-github",
        "colab_type": "text"
      },
      "source": [
        "<a href=\"https://colab.research.google.com/github/ttaskin/gaih-students-repo-example/blob/main/yemek_sorusu.ipynb\" target=\"_parent\"><img src=\"https://colab.research.google.com/assets/colab-badge.svg\" alt=\"Open In Colab\"/></a>"
      ]
    },
    {
      "cell_type": "code",
      "metadata": {
        "colab": {
          "base_uri": "https://localhost:8080/"
        },
        "id": "fgNvjPugrVEB",
        "outputId": "06a55318-ff18-4f2e-b457-a8bc32836b41"
      },
      "source": [
        "# yemek fiyatı üzerinden bahşiş vergi ve toplam fiyat hesaplama\n",
        "yemek_fiyati=25\n",
        "vergi = yemek_fiyati*0.08\n",
        "bahsis=yemek_fiyati*0.10\n",
        "toplam=yemek_fiyati+vergi+bahsis\n",
        "\n",
        "etiket=[ \"Yemek Fiyatı: \",\"Vergi: \",\"Bahşiş: \",\"Toplam: \"]\n",
        "sonuc=[yemek_fiyati,vergi,bahsis,toplam]\n",
        "for i in range(len(etiket)):\n",
        "   print(etiket[i] , str() , sonuc[i] )"
      ],
      "execution_count": 55,
      "outputs": [
        {
          "output_type": "stream",
          "text": [
            "Yemek Fiyatı:   25\n",
            "Vergi:   2.0\n",
            "Bahşiş:   2.5\n",
            "Toplam:   29.5\n"
          ],
          "name": "stdout"
        }
      ]
    },
    {
      "cell_type": "code",
      "metadata": {
        "id": "tsgkIymk4HkQ"
      },
      "source": [
        ""
      ],
      "execution_count": null,
      "outputs": []
    }
  ]
}