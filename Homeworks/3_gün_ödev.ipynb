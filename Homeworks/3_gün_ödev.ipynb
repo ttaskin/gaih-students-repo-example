{
  "nbformat": 4,
  "nbformat_minor": 0,
  "metadata": {
    "colab": {
      "name": "3. gün ödev.ipynb",
      "provenance": [],
      "collapsed_sections": []
    },
    "kernelspec": {
      "name": "python3",
      "display_name": "Python 3"
    },
    "language_info": {
      "name": "python"
    }
  },
  "cells": [
    {
      "cell_type": "code",
      "metadata": {
        "colab": {
          "base_uri": "https://localhost:8080/"
        },
        "id": "d1X4AWQpIQ6X",
        "outputId": "69cc9e14-baff-47e5-f829-38f0c6db7335"
      },
      "source": [
        "D={\"AD\":[\"Tarkan\",\"Burak\",\"Tuğba\",\"Satı\",\"Kazım\"],\n",
        "   \"Parola\":[\"123\",\"456\",\"789\",\"321\",\"654\"]}           #Dictionary oluşturma\n",
        "\n",
        "kadı = input(\"Kullanıcı Adı: \")   #kullancı adı girişi\n",
        "şifre = input(\"Parola: \")     #şifre girişi\n",
        "\n",
        "K=D[\"AD\"]           #kullanıcı adı listesi\n",
        "P=D[\"Parola\"]       #parola listesi\n",
        "q=()                #q değişkenine ön tanımlı boş atama\n",
        "if kadı not in K :\n",
        "  print(\"Kullanıcı Adı Hatalı\")\n",
        "else:\n",
        "    q=K.index(kadı)       #kullanıcı adının liste index'i\n",
        "    if şifre !=P[q]:      #kullanıc adı ve parola uygunluk sorgulama\n",
        "        print(\"Parola Hatalı\")\n",
        "    else:\n",
        "        print(\"Giriş Başarılı\")\n",
        "\n",
        "\n"
      ],
      "execution_count": 39,
      "outputs": [
        {
          "output_type": "stream",
          "text": [
            "Kullanıcı Adı: tarkan\n",
            "Parola: 123\n",
            "Kullanıcı Adı Hatalı\n"
          ],
          "name": "stdout"
        }
      ]
    }
  ]
}