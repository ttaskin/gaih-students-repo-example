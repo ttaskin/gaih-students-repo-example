{
  "nbformat": 4,
  "nbformat_minor": 0,
  "metadata": {
    "colab": {
      "name": "4.gün ödevi.ipynb",
      "provenance": [],
      "collapsed_sections": []
    },
    "kernelspec": {
      "name": "python3",
      "display_name": "Python 3"
    },
    "language_info": {
      "name": "python"
    }
  },
  "cells": [
    {
      "cell_type": "code",
      "metadata": {
        "colab": {
          "base_uri": "https://localhost:8080/"
        },
        "id": "2UCxj0cHnpZg",
        "outputId": "98f87f2b-df95-4305-c988-439dcfb9b6ac"
      },
      "source": [
        "def isim(val):                                                                   #sözlükten key almak için fonksiyon\n",
        "    for key, value in ortalama_sözlüğü.items():\n",
        "         if val == value:\n",
        "             return key\n",
        "\n",
        "\n",
        "Öğrenci=[]                                                                       #öğrenci adları için boş liste\n",
        "Notlar=[]                                                                        #notlar  için boş liste\n",
        "\n",
        "for i in  range(5):                                                              #öğrenci adları kullanıcdan istenir ve listeye eklenir\n",
        "  Öğrenci += [input(\"Öğrenci adı giriniz: \")]\n",
        "\n",
        "for i in  range(5):                                                              #notlar kullanıcdan istenir ve listeye eklenir\n",
        "  print(\"\\n\", Öğrenci[i].upper(), \"için ;\")\n",
        "  Notlar += [[int(input(\"Ara Sınav Notu: \")),\n",
        "              int(input(\"Proje Notu: \")),\n",
        "              int(input(\"Final Notu: \"))]]\n",
        "\n",
        "ortalama_listesi=[]                                                              #ortalama için boş liste\n",
        "sözlük={}                 \n",
        "ortalama_sözlüğü={}                                                              # öğrenci adı + not için boş sözlük\n",
        "\n",
        "for i in range(5):                                                               # not ortalaması hesapları\n",
        "\tN=Notlar[i]\n",
        "\tT=format(N[0]*0.3 + N[1]*0.3 + N[2]*0.4, \".2f\" )\n",
        "\tortalama_listesi.append(T)\n",
        " \n",
        "for i in range(5):\n",
        "    sözlük[Öğrenci[i]]=Notlar[i]\n",
        "\n",
        "for i in range(5):                                                               #öğrenci adı + not sözlüğünün oluşturulması\n",
        "    ortalama_sözlüğü[Öğrenci[i]]=ortalama_listesi[i]\n",
        "\n",
        "print(\" \")                                                                       # girişler sonrası bir satır boşluk bırakmak için\n",
        "\n",
        "for i,j in ortalama_sözlüğü.items():                                             #öğrenci adı + not alt alta yazdırılır\n",
        "  print(i.upper(),\": \",j)\n",
        "\n",
        "val_list = list(ortalama_sözlüğü.values())\n",
        "val_list.sort()\n",
        "val_list.reverse()                                                                #sırayı tersine çevirme\n",
        "\n",
        "#en yüksek notu alan öğrenciyi yazdırma\n",
        "print(\"\\n En yüksek Not: \\n\",\n",
        "      isim(val_list[0]).upper(),\n",
        "      \" Tebrikler !\") "
      ],
      "execution_count": 97,
      "outputs": [
        {
          "output_type": "stream",
          "text": [
            "öğrenci adı giriniz: tarkan\n",
            "öğrenci adı giriniz: burak\n",
            "öğrenci adı giriniz: tuğba\n",
            "öğrenci adı giriniz: satu\n",
            "öğrenci adı giriniz: kazım\n",
            "\n",
            " TARKAN için ;\n",
            "Ara Sınav Notu: 100\n",
            "Proje Notu: 80\n",
            "Final Notu: 100\n",
            "\n",
            " BURAK için ;\n",
            "Ara Sınav Notu: 50\n",
            "Proje Notu: 50\n",
            "Final Notu: 50\n",
            "\n",
            " TUĞBA için ;\n",
            "Ara Sınav Notu: 20\n",
            "Proje Notu: 30\n",
            "Final Notu: 50\n",
            "\n",
            " SATU için ;\n",
            "Ara Sınav Notu: 50\n",
            "Proje Notu: 50\n",
            "Final Notu: 50\n",
            "\n",
            " KAZIM için ;\n",
            "Ara Sınav Notu: 60\n",
            "Proje Notu: 40\n",
            "Final Notu: 20\n",
            " \n",
            "TARKAN :  94.00\n",
            "BURAK :  50.00\n",
            "TUĞBA :  35.00\n",
            "SATU :  50.00\n",
            "KAZIM :  38.00\n",
            "\n",
            " En yüksek Not: \n",
            " TARKAN  Tebrikler !\n"
          ],
          "name": "stdout"
        }
      ]
    }
  ]
}
