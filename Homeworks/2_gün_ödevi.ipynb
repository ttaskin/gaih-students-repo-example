{
  "nbformat": 4,
  "nbformat_minor": 0,
  "metadata": {
    "colab": {
      "name": "2. gün ödevi.ipynb",
      "provenance": [],
      "collapsed_sections": []
    },
    "kernelspec": {
      "name": "python3",
      "display_name": "Python 3"
    },
    "language_info": {
      "name": "python"
    }
  },
  "cells": [
    {
      "cell_type": "code",
      "metadata": {
        "id": "qNGH6DdX_F3p"
      },
      "source": [
        "#2. gün ödev"
      ],
      "execution_count": null,
      "outputs": []
    },
    {
      "cell_type": "code",
      "metadata": {
        "colab": {
          "base_uri": "https://localhost:8080/"
        },
        "id": "_ijsn-Lt3kAB",
        "outputId": "7dcb5f29-2a25-454f-a3b2-796164a81f43"
      },
      "source": [
        " #soru 1\n",
        "\n",
        "liste=[\"T\", \"a\",\"r\", \"k\", \"a\", \"n\", \"T\", \"A\", \"Ş\", \"K\", \"I\",\"N\"]                 #LİSTE OLUŞTURULDU\n",
        "\n",
        "half=int(len(liste)*0.5)                                                         #liste eleman sayısının yarısı bulundu ve integer bir değer olarak atandı\n",
        "ilk_yari= liste[:half]                                                           #ilk yarısı oluşturuldu\n",
        "ikinci_yari= liste[half:]                                                        #ikinci yarı oluşturuldu\n",
        "\n",
        "birleştir=[]\n",
        "ikinci_yari.extend(ilk_yari)\n",
        "birleştir.extend(ikinci_yari)\n",
        "\n",
        "print(birleştir)"
      ],
      "execution_count": 42,
      "outputs": [
        {
          "output_type": "stream",
          "text": [
            "['T', 'A', 'Ş', 'K', 'I', 'N', 'T', 'a', 'r', 'k', 'a', 'n']\n"
          ],
          "name": "stdout"
        }
      ]
    },
    {
      "cell_type": "code",
      "metadata": {
        "colab": {
          "base_uri": "https://localhost:8080/"
        },
        "id": "w_BVZhe2_Emd",
        "outputId": "a5e97ce0-3121-4095-9e0b-83006c67e3e1"
      },
      "source": [
        "#soru 2\n",
        "\n",
        "n = int(input(\"Tek basamaklı bir sayı giriniz: \"))                              #kullanıcıdan tek basamaklı bir sayı girmesi istendi ve integer'a dönüştürüldü.\n",
        "sayı=0                                                                          #0'dan başlaması için değer verildi.\n",
        "\n",
        "while sayı<= n:                                                                 #döngü 0 dan başlayıp girilen sayıya (sayı dahil) kadar yazması sağlandı.\n",
        "\n",
        "     if(sayı %2 ==0):                                                           #çift sayılar 2 ile tam bölünür.\n",
        "         print(\"{0}\".format(sayı))                                              #0 dan itibaren kuşulu sağlayan sayıları yazdırır.\n",
        "         \n",
        "     sayı=sayı+1                                                                #while koşulundaki sayıya kadar her döngüde sayıya 1 ekler."
      ],
      "execution_count": 49,
      "outputs": [
        {
          "output_type": "stream",
          "text": [
            "Tek basamaklı bir sayı giriniz: 9\n",
            "0\n",
            "2\n",
            "4\n",
            "6\n",
            "8\n"
          ],
          "name": "stdout"
        }
      ]
    }
  ]
}